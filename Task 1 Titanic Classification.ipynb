{
 "cells": [
  {
   "cell_type": "markdown",
   "id": "60d72788-751d-4a5e-aee4-a2774786515f",
   "metadata": {},
   "source": [
    "# Machine Learning - Task 1 Titanic Classification\n",
    "In this activity, we aim to classify Titanic passengers based on their likelihood of survival."
   ]
  },
  {
   "cell_type": "code",
   "execution_count": 2,
   "id": "f1b74d1c-381d-40d7-a2c2-2cf0d1306589",
   "metadata": {},
   "outputs": [],
   "source": [
    "# Importing libraries\n",
    "import pandas as pd\n",
    "import numpy as np\n",
    "import matplotlib.pyplot as plt\n",
    "import seaborn as sns\n",
    "from sklearn.model_selection import train_test_split\n",
    "from sklearn.tree import DecisionTreeClassifier\n",
    "from sklearn.ensemble import RandomForestClassifier\n",
    "from sklearn.dummy import DummyClassifier\n",
    "from sklearn.metrics import accuracy_score, f1_score, classification_report, confusion_matrix"
   ]
  },
  {
   "cell_type": "markdown",
   "id": "2099abdd-fc43-41a7-873f-8b52fa566ffe",
   "metadata": {},
   "source": [
    "### 1. Load datasets"
   ]
  },
  {
   "cell_type": "code",
   "execution_count": 3,
   "id": "d3d5607f-c19e-4ca2-a584-21c8970a81b3",
   "metadata": {},
   "outputs": [],
   "source": [
    "# Load Data\n",
    "train_path = 'C:/Users/femij/Downloads/titanic/train.csv'\n",
    "test_path = 'C:/Users/femij/Downloads/titanic/test.csv'\n",
    "truth_path = 'C:/Users/femij/Downloads/truth_titanic.csv'\n",
    "\n",
    "titanic_train = pd.read_csv(train_path)\n",
    "titanic_test = pd.read_csv(test_path)\n",
    "truth_titanic = pd.read_csv(truth_path)"
   ]
  },
  {
   "cell_type": "markdown",
   "id": "9b94a8d7-ed46-43b0-8d98-31f2f5bc0460",
   "metadata": {},
   "source": [
    "### 2. Exploring the dataset"
   ]
  },
  {
   "cell_type": "code",
   "execution_count": 4,
   "id": "ace39a6d-e83a-4a55-b9be-111b18c17014",
   "metadata": {},
   "outputs": [
    {
     "data": {
      "text/html": [
       "<div>\n",
       "<style scoped>\n",
       "    .dataframe tbody tr th:only-of-type {\n",
       "        vertical-align: middle;\n",
       "    }\n",
       "\n",
       "    .dataframe tbody tr th {\n",
       "        vertical-align: top;\n",
       "    }\n",
       "\n",
       "    .dataframe thead th {\n",
       "        text-align: right;\n",
       "    }\n",
       "</style>\n",
       "<table border=\"1\" class=\"dataframe\">\n",
       "  <thead>\n",
       "    <tr style=\"text-align: right;\">\n",
       "      <th></th>\n",
       "      <th>PassengerId</th>\n",
       "      <th>Survived</th>\n",
       "      <th>Pclass</th>\n",
       "      <th>Name</th>\n",
       "      <th>Sex</th>\n",
       "      <th>Age</th>\n",
       "      <th>SibSp</th>\n",
       "      <th>Parch</th>\n",
       "      <th>Ticket</th>\n",
       "      <th>Fare</th>\n",
       "      <th>Cabin</th>\n",
       "      <th>Embarked</th>\n",
       "    </tr>\n",
       "  </thead>\n",
       "  <tbody>\n",
       "    <tr>\n",
       "      <th>0</th>\n",
       "      <td>1</td>\n",
       "      <td>0</td>\n",
       "      <td>3</td>\n",
       "      <td>Braund, Mr. Owen Harris</td>\n",
       "      <td>male</td>\n",
       "      <td>22.0</td>\n",
       "      <td>1</td>\n",
       "      <td>0</td>\n",
       "      <td>A/5 21171</td>\n",
       "      <td>7.2500</td>\n",
       "      <td>NaN</td>\n",
       "      <td>S</td>\n",
       "    </tr>\n",
       "    <tr>\n",
       "      <th>1</th>\n",
       "      <td>2</td>\n",
       "      <td>1</td>\n",
       "      <td>1</td>\n",
       "      <td>Cumings, Mrs. John Bradley (Florence Briggs Th...</td>\n",
       "      <td>female</td>\n",
       "      <td>38.0</td>\n",
       "      <td>1</td>\n",
       "      <td>0</td>\n",
       "      <td>PC 17599</td>\n",
       "      <td>71.2833</td>\n",
       "      <td>C85</td>\n",
       "      <td>C</td>\n",
       "    </tr>\n",
       "    <tr>\n",
       "      <th>2</th>\n",
       "      <td>3</td>\n",
       "      <td>1</td>\n",
       "      <td>3</td>\n",
       "      <td>Heikkinen, Miss. Laina</td>\n",
       "      <td>female</td>\n",
       "      <td>26.0</td>\n",
       "      <td>0</td>\n",
       "      <td>0</td>\n",
       "      <td>STON/O2. 3101282</td>\n",
       "      <td>7.9250</td>\n",
       "      <td>NaN</td>\n",
       "      <td>S</td>\n",
       "    </tr>\n",
       "    <tr>\n",
       "      <th>3</th>\n",
       "      <td>4</td>\n",
       "      <td>1</td>\n",
       "      <td>1</td>\n",
       "      <td>Futrelle, Mrs. Jacques Heath (Lily May Peel)</td>\n",
       "      <td>female</td>\n",
       "      <td>35.0</td>\n",
       "      <td>1</td>\n",
       "      <td>0</td>\n",
       "      <td>113803</td>\n",
       "      <td>53.1000</td>\n",
       "      <td>C123</td>\n",
       "      <td>S</td>\n",
       "    </tr>\n",
       "    <tr>\n",
       "      <th>4</th>\n",
       "      <td>5</td>\n",
       "      <td>0</td>\n",
       "      <td>3</td>\n",
       "      <td>Allen, Mr. William Henry</td>\n",
       "      <td>male</td>\n",
       "      <td>35.0</td>\n",
       "      <td>0</td>\n",
       "      <td>0</td>\n",
       "      <td>373450</td>\n",
       "      <td>8.0500</td>\n",
       "      <td>NaN</td>\n",
       "      <td>S</td>\n",
       "    </tr>\n",
       "  </tbody>\n",
       "</table>\n",
       "</div>"
      ],
      "text/plain": [
       "   PassengerId  Survived  Pclass  \\\n",
       "0            1         0       3   \n",
       "1            2         1       1   \n",
       "2            3         1       3   \n",
       "3            4         1       1   \n",
       "4            5         0       3   \n",
       "\n",
       "                                                Name     Sex   Age  SibSp  \\\n",
       "0                            Braund, Mr. Owen Harris    male  22.0      1   \n",
       "1  Cumings, Mrs. John Bradley (Florence Briggs Th...  female  38.0      1   \n",
       "2                             Heikkinen, Miss. Laina  female  26.0      0   \n",
       "3       Futrelle, Mrs. Jacques Heath (Lily May Peel)  female  35.0      1   \n",
       "4                           Allen, Mr. William Henry    male  35.0      0   \n",
       "\n",
       "   Parch            Ticket     Fare Cabin Embarked  \n",
       "0      0         A/5 21171   7.2500   NaN        S  \n",
       "1      0          PC 17599  71.2833   C85        C  \n",
       "2      0  STON/O2. 3101282   7.9250   NaN        S  \n",
       "3      0            113803  53.1000  C123        S  \n",
       "4      0            373450   8.0500   NaN        S  "
      ]
     },
     "execution_count": 4,
     "metadata": {},
     "output_type": "execute_result"
    }
   ],
   "source": [
    "titanic_train.head() # Preview the first 5 rows of the dataset"
   ]
  },
  {
   "cell_type": "code",
   "execution_count": 5,
   "id": "6f2827d8-d172-4bd1-8a19-152946227901",
   "metadata": {},
   "outputs": [
    {
     "name": "stdout",
     "output_type": "stream",
     "text": [
      "<class 'pandas.core.frame.DataFrame'>\n",
      "RangeIndex: 891 entries, 0 to 890\n",
      "Data columns (total 12 columns):\n",
      " #   Column       Non-Null Count  Dtype  \n",
      "---  ------       --------------  -----  \n",
      " 0   PassengerId  891 non-null    int64  \n",
      " 1   Survived     891 non-null    int64  \n",
      " 2   Pclass       891 non-null    int64  \n",
      " 3   Name         891 non-null    object \n",
      " 4   Sex          891 non-null    object \n",
      " 5   Age          714 non-null    float64\n",
      " 6   SibSp        891 non-null    int64  \n",
      " 7   Parch        891 non-null    int64  \n",
      " 8   Ticket       891 non-null    object \n",
      " 9   Fare         891 non-null    float64\n",
      " 10  Cabin        204 non-null    object \n",
      " 11  Embarked     889 non-null    object \n",
      "dtypes: float64(2), int64(5), object(5)\n",
      "memory usage: 83.7+ KB\n"
     ]
    }
   ],
   "source": [
    "titanic_train.info() # Explore dataset information"
   ]
  },
  {
   "cell_type": "code",
   "execution_count": 6,
   "id": "24411d33-19cc-415b-864a-4f67e2daa416",
   "metadata": {},
   "outputs": [
    {
     "data": {
      "text/html": [
       "<div>\n",
       "<style scoped>\n",
       "    .dataframe tbody tr th:only-of-type {\n",
       "        vertical-align: middle;\n",
       "    }\n",
       "\n",
       "    .dataframe tbody tr th {\n",
       "        vertical-align: top;\n",
       "    }\n",
       "\n",
       "    .dataframe thead th {\n",
       "        text-align: right;\n",
       "    }\n",
       "</style>\n",
       "<table border=\"1\" class=\"dataframe\">\n",
       "  <thead>\n",
       "    <tr style=\"text-align: right;\">\n",
       "      <th></th>\n",
       "      <th>PassengerId</th>\n",
       "      <th>Survived</th>\n",
       "      <th>Pclass</th>\n",
       "      <th>Age</th>\n",
       "      <th>SibSp</th>\n",
       "      <th>Parch</th>\n",
       "      <th>Fare</th>\n",
       "    </tr>\n",
       "  </thead>\n",
       "  <tbody>\n",
       "    <tr>\n",
       "      <th>count</th>\n",
       "      <td>891.000000</td>\n",
       "      <td>891.000000</td>\n",
       "      <td>891.000000</td>\n",
       "      <td>714.000000</td>\n",
       "      <td>891.000000</td>\n",
       "      <td>891.000000</td>\n",
       "      <td>891.000000</td>\n",
       "    </tr>\n",
       "    <tr>\n",
       "      <th>mean</th>\n",
       "      <td>446.000000</td>\n",
       "      <td>0.383838</td>\n",
       "      <td>2.308642</td>\n",
       "      <td>29.699118</td>\n",
       "      <td>0.523008</td>\n",
       "      <td>0.381594</td>\n",
       "      <td>32.204208</td>\n",
       "    </tr>\n",
       "    <tr>\n",
       "      <th>std</th>\n",
       "      <td>257.353842</td>\n",
       "      <td>0.486592</td>\n",
       "      <td>0.836071</td>\n",
       "      <td>14.526497</td>\n",
       "      <td>1.102743</td>\n",
       "      <td>0.806057</td>\n",
       "      <td>49.693429</td>\n",
       "    </tr>\n",
       "    <tr>\n",
       "      <th>min</th>\n",
       "      <td>1.000000</td>\n",
       "      <td>0.000000</td>\n",
       "      <td>1.000000</td>\n",
       "      <td>0.420000</td>\n",
       "      <td>0.000000</td>\n",
       "      <td>0.000000</td>\n",
       "      <td>0.000000</td>\n",
       "    </tr>\n",
       "    <tr>\n",
       "      <th>25%</th>\n",
       "      <td>223.500000</td>\n",
       "      <td>0.000000</td>\n",
       "      <td>2.000000</td>\n",
       "      <td>20.125000</td>\n",
       "      <td>0.000000</td>\n",
       "      <td>0.000000</td>\n",
       "      <td>7.910400</td>\n",
       "    </tr>\n",
       "    <tr>\n",
       "      <th>50%</th>\n",
       "      <td>446.000000</td>\n",
       "      <td>0.000000</td>\n",
       "      <td>3.000000</td>\n",
       "      <td>28.000000</td>\n",
       "      <td>0.000000</td>\n",
       "      <td>0.000000</td>\n",
       "      <td>14.454200</td>\n",
       "    </tr>\n",
       "    <tr>\n",
       "      <th>75%</th>\n",
       "      <td>668.500000</td>\n",
       "      <td>1.000000</td>\n",
       "      <td>3.000000</td>\n",
       "      <td>38.000000</td>\n",
       "      <td>1.000000</td>\n",
       "      <td>0.000000</td>\n",
       "      <td>31.000000</td>\n",
       "    </tr>\n",
       "    <tr>\n",
       "      <th>max</th>\n",
       "      <td>891.000000</td>\n",
       "      <td>1.000000</td>\n",
       "      <td>3.000000</td>\n",
       "      <td>80.000000</td>\n",
       "      <td>8.000000</td>\n",
       "      <td>6.000000</td>\n",
       "      <td>512.329200</td>\n",
       "    </tr>\n",
       "  </tbody>\n",
       "</table>\n",
       "</div>"
      ],
      "text/plain": [
       "       PassengerId    Survived      Pclass         Age       SibSp  \\\n",
       "count   891.000000  891.000000  891.000000  714.000000  891.000000   \n",
       "mean    446.000000    0.383838    2.308642   29.699118    0.523008   \n",
       "std     257.353842    0.486592    0.836071   14.526497    1.102743   \n",
       "min       1.000000    0.000000    1.000000    0.420000    0.000000   \n",
       "25%     223.500000    0.000000    2.000000   20.125000    0.000000   \n",
       "50%     446.000000    0.000000    3.000000   28.000000    0.000000   \n",
       "75%     668.500000    1.000000    3.000000   38.000000    1.000000   \n",
       "max     891.000000    1.000000    3.000000   80.000000    8.000000   \n",
       "\n",
       "            Parch        Fare  \n",
       "count  891.000000  891.000000  \n",
       "mean     0.381594   32.204208  \n",
       "std      0.806057   49.693429  \n",
       "min      0.000000    0.000000  \n",
       "25%      0.000000    7.910400  \n",
       "50%      0.000000   14.454200  \n",
       "75%      0.000000   31.000000  \n",
       "max      6.000000  512.329200  "
      ]
     },
     "execution_count": 6,
     "metadata": {},
     "output_type": "execute_result"
    }
   ],
   "source": [
    "titanic_train.describe() # Explore dataset Statistics "
   ]
  },
  {
   "cell_type": "code",
   "execution_count": 7,
   "id": "63732a96-489f-407d-b829-0848c1de4b8a",
   "metadata": {},
   "outputs": [
    {
     "name": "stdout",
     "output_type": "stream",
     "text": [
      "PassengerId      0\n",
      "Survived         0\n",
      "Pclass           0\n",
      "Name             0\n",
      "Sex              0\n",
      "Age            177\n",
      "SibSp            0\n",
      "Parch            0\n",
      "Ticket           0\n",
      "Fare             0\n",
      "Cabin          687\n",
      "Embarked         2\n",
      "dtype: int64\n"
     ]
    }
   ],
   "source": [
    "# Check for missing values\n",
    "print(titanic_train.isnull().sum())"
   ]
  },
  {
   "cell_type": "markdown",
   "id": "3580d1c6-c64e-4f46-818f-13193fdda66f",
   "metadata": {},
   "source": [
    "### Visualizations"
   ]
  },
  {
   "cell_type": "code",
   "execution_count": 8,
   "id": "4dcf40b6-d478-4b3f-a02a-9b3274f7533f",
   "metadata": {},
   "outputs": [
    {
     "data": {
      "image/png": "[encoded data removed]",
      "text/plain": [
       "<Figure size 640x480 with 1 Axes>"
      ]
     },
     "metadata": {},
     "output_type": "display_data"
    }
   ],
   "source": [
    "# 1. Visualize the dataset: Survival distribution\n",
    "sns.countplot(x = \"Survived\", data = titanic_train)\n",
    "plt.title(\"Survival Distribution\")\n",
    "plt.xlabel(\"Survived (0 = No, 1 = Yes)\")\n",
    "plt.ylabel(\"Count of Passengers\")\n",
    "plt.show()"
   ]
  },
  {
   "cell_type": "code",
   "execution_count": 9,
   "id": "a92ee2d2-c367-4dad-86b6-a71e091bc220",
   "metadata": {},
   "outputs": [
    {
     "data": {
      "image/png": "[encoded data removed]",
      "text/plain": [
       "<Figure size 640x480 with 1 Axes>"
      ]
     },
     "metadata": {},
     "output_type": "display_data"
    }
   ],
   "source": [
    "# 2. Visualize the data: Survived vs Pclass\n",
    "\n",
    "# Convert 'Survived' to categorical for better legend labeling\n",
    "titanic_train['Survived'] = titanic_train['Survived'].map({0: 'Not Survived', 1: 'Survived'})\n",
    "\n",
    "# Create the countplot\n",
    "sns.countplot(x=\"Pclass\", hue=\"Survived\", data=titanic_train)\n",
    "plt.title(\"Survival by Passenger Class\")\n",
    "plt.xlabel(\"Passenger Class (1 = First, 2 = Second, 3 = Third)\")\n",
    "plt.ylabel(\"Count of Passengers\")\n",
    "plt.legend(title=\"Survived\")\n",
    "plt.show()"
   ]
  },
  {
   "cell_type": "code",
   "execution_count": 10,
   "id": "8990b305-dcb4-4711-9cb1-7dcb9ddf4955",
   "metadata": {},
   "outputs": [
    {
     "data": {
      "image/png": "[encoded data removed]",
      "text/plain": [
       "<Figure size 640x480 with 1 Axes>"
      ]
     },
     "metadata": {},
     "output_type": "display_data"
    }
   ],
   "source": [
    "# 3. Visualize the data: Survived vs Sex\n",
    "sns.countplot(x = \"Sex\", hue = \"Survived\", data = titanic_train)\n",
    "plt.title(\"Survival by Sex\")\n",
    "plt.xlabel(\"Sex\")\n",
    "plt.ylabel(\"Count of Passengers\")\n",
    "plt.legend(title=\"Survived\")\n",
    "plt.show()"
   ]
  },
  {
   "cell_type": "code",
   "execution_count": 11,
   "id": "64032526-6f9f-4b7d-b09c-67560c8d956b",
   "metadata": {},
   "outputs": [
    {
     "data": {
      "image/png": "[encoded data removed]",
      "text/plain": [
       "<Figure size 640x480 with 1 Axes>"
      ]
     },
     "metadata": {},
     "output_type": "display_data"
    }
   ],
   "source": [
    "# 4. Visualize the dataset: Survived vs Age Distribution\n",
    "\n",
    "# Handle infinite values by replacing them with NaN\n",
    "titanic_train['Age'].replace([np.inf, -np.inf], np.nan, inplace=True)\n",
    "\n",
    "# Survived vs Age Distribution\n",
    "sns.histplot(data=titanic_train, x=\"Age\", hue=\"Survived\", kde=True)\n",
    "plt.title(\"Survival by Age Distribution\")\n",
    "plt.xlabel(\"Age\")\n",
    "plt.ylabel(\"Number of Passengers\")\n",
    "plt.show()"
   ]
  },
  {
   "cell_type": "markdown",
   "id": "f2445639-009e-4710-ac54-6a0998e54a59",
   "metadata": {},
   "source": [
    "### 4. Processing the data"
   ]
  },
  {
   "cell_type": "code",
   "execution_count": 12,
   "id": "adf377e4-cab0-4e6b-8f2d-7ca5da7929ee",
   "metadata": {},
   "outputs": [],
   "source": [
    "## Handle Missing Values\n",
    "titanic_train['Age'] = titanic_train['Age'].fillna(titanic_train['Age'].mean())\n",
    "titanic_test['Age'] = titanic_test['Age'].fillna(titanic_test['Age'].mean())\n",
    "titanic_train['Embarked'] = titanic_train['Embarked'].fillna(titanic_train['Embarked'].mode()[0])"
   ]
  },
  {
   "cell_type": "code",
   "execution_count": 13,
   "id": "ee1c8e39-00e1-4302-901d-55c5f03b2f24",
   "metadata": {},
   "outputs": [],
   "source": [
    "# Drop irrelevant columns\n",
    "titanic_train.drop(['PassengerId', 'Name', 'Ticket', 'Cabin'], axis=1, inplace=True)\n",
    "titanic_test.drop(['PassengerId', 'Name', 'Ticket', 'Cabin'], axis=1, inplace=True)"
   ]
  },
  {
   "cell_type": "code",
   "execution_count": 14,
   "id": "a6e29faa-9e13-4cdd-b894-fd6ab9cfcc8a",
   "metadata": {},
   "outputs": [],
   "source": [
    "# Encoding categorical variables\n",
    "titanic_train = pd.get_dummies(titanic_train, columns=['Sex', 'Embarked'], drop_first=True)\n",
    "titanic_test = pd.get_dummies(titanic_test, columns=['Sex', 'Embarked'], drop_first=True)"
   ]
  },
  {
   "cell_type": "code",
   "execution_count": 15,
   "id": "9a3817de-29a4-4aff-a149-1373d600b32d",
   "metadata": {},
   "outputs": [],
   "source": [
    "# Align test data columns to train\n",
    "missing_cols = set(titanic_train.columns) - set(titanic_test.columns)\n",
    "for col in missing_cols:\n",
    "    titanic_test[col] = 0\n",
    "titanic_test = titanic_test[titanic_train.columns.drop('Survived')]"
   ]
  },
  {
   "cell_type": "code",
   "execution_count": 16,
   "id": "1f5e2b6e-e8c2-436b-ae87-31a49fce9539",
   "metadata": {},
   "outputs": [],
   "source": [
    "# Splitting data\n",
    "X = titanic_train.drop('Survived', axis=1)\n",
    "y = titanic_train['Survived']\n",
    "X_train, X_test, y_train, y_test = train_test_split(X, y, test_size=0.2, random_state=42)"
   ]
  },
  {
   "cell_type": "markdown",
   "id": "d9eb1b76-8a85-4126-b332-847d7b0ee257",
   "metadata": {},
   "source": [
    "### 5. Modeling"
   ]
  },
  {
   "cell_type": "code",
   "execution_count": 17,
   "id": "5bc5d363-5312-43d1-abaa-01190b49c8b7",
   "metadata": {},
   "outputs": [],
   "source": [
    "# Baseline Model: DummyClassifier\n",
    "dummy_clf = DummyClassifier(strategy='most_frequent', random_state=2020)\n",
    "dummy_clf.fit(X_train, y_train)\n",
    "dummy_pred = dummy_clf.predict(X_test)"
   ]
  },
  {
   "cell_type": "code",
   "execution_count": 18,
   "id": "72b1f223-2365-4463-8132-2152b6233590",
   "metadata": {},
   "outputs": [
    {
     "name": "stdout",
     "output_type": "stream",
     "text": [
      "Dummy Classifier Performance:\n",
      "Accuracy: 0.587\n",
      "F1 Score: 0.000\n"
     ]
    }
   ],
   "source": [
    "print(\"Dummy Classifier Performance:\")\n",
    "print(f\"Accuracy: {accuracy_score(y_test, dummy_pred):.3f}\")\n",
    "print(f\"F1 Score: {f1_score(y_test, dummy_pred, pos_label='Survived'):.3f}\")"
   ]
  },
  {
   "cell_type": "code",
   "execution_count": 19,
   "id": "95a1af01-3675-4af0-a6e8-1e3a96ef69e7",
   "metadata": {},
   "outputs": [],
   "source": [
    "# Improved Model: Decision Tree\n",
    "dt_clf = DecisionTreeClassifier(random_state=42)\n",
    "dt_clf.fit(X_train, y_train)\n",
    "dt_pred = dt_clf.predict(X_test)"
   ]
  },
  {
   "cell_type": "code",
   "execution_count": 20,
   "id": "a396534a-4f6c-4153-991a-8a069c50de13",
   "metadata": {},
   "outputs": [
    {
     "name": "stdout",
     "output_type": "stream",
     "text": [
      "Decision Tree Performance:\n",
      "Accuracy: 0.793\n",
      "F1 Score: 0.745\n"
     ]
    }
   ],
   "source": [
    "print(\"Decision Tree Performance:\")\n",
    "print(f\"Accuracy: {accuracy_score(y_test, dt_pred):.3f}\")\n",
    "print(f\"F1 Score: {f1_score(y_test, dt_pred, pos_label='Survived'):.3f}\")"
   ]
  },
  {
   "cell_type": "code",
   "execution_count": 21,
   "id": "fe4f6529-751a-4297-b466-23cd695fabeb",
   "metadata": {},
   "outputs": [],
   "source": [
    "# Advanced Model: Random Forest\n",
    "rf_clf = RandomForestClassifier(random_state=42)\n",
    "rf_clf.fit(X_train, y_train)\n",
    "rf_pred = rf_clf.predict(X_test)"
   ]
  },
  {
   "cell_type": "code",
   "execution_count": 22,
   "id": "e60f53c1-f84f-4a17-a311-caedb0feeac0",
   "metadata": {},
   "outputs": [
    {
     "name": "stdout",
     "output_type": "stream",
     "text": [
      "Random Forest Performance:\n",
      "Accuracy: 0.804\n",
      "F1 Score: 0.755\n"
     ]
    }
   ],
   "source": [
    "print(\"Random Forest Performance:\")\n",
    "print(f\"Accuracy: {accuracy_score(y_test, rf_pred):.3f}\")\n",
    "print(f\"F1 Score: {f1_score(y_test, rf_pred, pos_label='Survived'):.3f}\")"
   ]
  },
  {
   "cell_type": "markdown",
   "id": "1a732ebb-9f8e-4b8f-bbd3-52e7ec802cd9",
   "metadata": {},
   "source": [
    "### 6. Prediction"
   ]
  },
  {
   "cell_type": "code",
   "execution_count": 67,
   "id": "a81c30e4-4244-407f-a32c-adb29deeda03",
   "metadata": {},
   "outputs": [
    {
     "name": "stdout",
     "output_type": "stream",
     "text": [
      "Predictions for the first 5 rows:\n",
      "['Not Survived' 'Not Survived' 'Not Survived' 'Not Survived'\n",
      " 'Not Survived']\n"
     ]
    }
   ],
   "source": [
    "# Make 5 predictions with Dummy Classifier\n",
    "new_data = X_test[:5]  # Taking the first 5 rows for prediction\n",
    "predictions = dummy_clf.predict(new_data)\n",
    "\n",
    "# Print the predictions\n",
    "print(\"Predictions for the first 5 rows:\")\n",
    "print(predictions)"
   ]
  },
  {
   "cell_type": "code",
   "execution_count": 68,
   "id": "6d6fc457-0629-40f1-b7bb-c23e9415c240",
   "metadata": {},
   "outputs": [
    {
     "name": "stdout",
     "output_type": "stream",
     "text": [
      "Predictions for the first 5 rows:\n",
      "['Not Survived' 'Survived' 'Survived' 'Survived' 'Survived']\n"
     ]
    }
   ],
   "source": [
    "# Make 5 predictions with Decision Tree\n",
    "new_data = X_test[:5]  # Taking the first 5 rows for prediction\n",
    "predictions = dt_clf.predict(new_data)\n",
    "\n",
    "# Print the predictions\n",
    "print(\"Predictions for the first 5 rows:\")\n",
    "print(predictions)"
   ]
  },
  {
   "cell_type": "code",
   "execution_count": 69,
   "id": "b7e5c6d3-9df1-42cc-b83f-2cdd80562b13",
   "metadata": {},
   "outputs": [
    {
     "name": "stdout",
     "output_type": "stream",
     "text": [
      "Predictions for the first 5 rows:\n",
      "['Not Survived' 'Not Survived' 'Not Survived' 'Survived' 'Not Survived']\n"
     ]
    }
   ],
   "source": [
    "# Make 5 predictions with Random Forest\n",
    "new_data = X_test[:5]  # Taking the first 5 rows for prediction\n",
    "predictions = rf_clf.predict(new_data)\n",
    "\n",
    "# Print the predictions\n",
    "print(\"Predictions for the first 5 rows:\")\n",
    "print(predictions)"
   ]
  },
  {
   "cell_type": "code",
   "execution_count": null,
   "id": "c5619dcb-0959-45ae-b176-fbd1f33f2c47",
   "metadata": {},
   "outputs": [],
   "source": []
  },
  {
   "cell_type": "markdown",
   "id": "99c238b0-d896-4928-ab0a-c2020aad2e87",
   "metadata": {},
   "source": [
    "### End"
   ]
  },
  {
   "cell_type": "code",
   "execution_count": 1,
   "id": "cc524cfc-c3bd-4fdd-9a19-114eaba94db9",
   "metadata": {},
   "outputs": [],
   "source": [
    "import warnings\n",
    "warnings.filterwarnings(\"ignore\", category=DeprecationWarning)\n",
    "warnings.simplefilter(action='ignore', category=FutureWarning)\n",
    "import os\n",
    "os.environ[\"OMP_NUM_THREADS\"] = \"1\""
   ]
  },
  {
   "cell_type": "code",
   "execution_count": null,
   "id": "88e61b8d-16ee-43cb-bb5d-945293de60aa",
   "metadata": {},
   "outputs": [],
   "source": []
  }
 ],
 "metadata": {
  "kernelspec": {
   "display_name": "Python 3 (ipykernel)",
   "language": "python",
   "name": "python3"
  },
  "language_info": {
   "codemirror_mode": {
    "name": "ipython",
    "version": 3
   },
   "file_extension": ".py",
   "mimetype": "text/x-python",
   "name": "python",
   "nbconvert_exporter": "python",
   "pygments_lexer": "ipython3",
   "version": "3.11.7"
  }
 },
 "nbformat": 4,
 "nbformat_minor": 5
}
